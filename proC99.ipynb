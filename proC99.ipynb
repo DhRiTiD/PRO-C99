{
  "nbformat": 4,
  "nbformat_minor": 0,
  "metadata": {
    "colab": {
      "provenance": [],
      "authorship_tag": "ABX9TyO/4xZcyzdOelPV6FLYqU0l",
      "include_colab_link": true
    },
    "kernelspec": {
      "name": "python3",
      "display_name": "Python 3"
    },
    "language_info": {
      "name": "python"
    }
  },
  "cells": [
    {
      "cell_type": "markdown",
      "metadata": {
        "id": "view-in-github",
        "colab_type": "text"
      },
      "source": [
        "<a href=\"https://colab.research.google.com/github/DhRiTiD/PRO-C99/blob/main/proC99.ipynb\" target=\"_parent\"><img src=\"https://colab.research.google.com/assets/colab-badge.svg\" alt=\"Open In Colab\"/></a>"
      ]
    },
    {
      "cell_type": "code",
      "execution_count": null,
      "metadata": {
        "id": "Yyo8SUcWIWz0",
        "colab": {
          "base_uri": "https://localhost:8080/"
        },
        "outputId": "0aae9f86-9adc-4e53-ee9e-ff9643b35932"
      },
      "outputs": [
        {
          "output_type": "stream",
          "name": "stdout",
          "text": [
            "enter number of rows :5\n",
            "\n",
            "* \n",
            "* * \n",
            "* * * \n",
            "* * * * \n"
          ]
        }
      ],
      "source": [
        "num=int(input('enter number of rows :'))\n",
        "for i in range(0,num):\n",
        "  for j in range(0,i):\n",
        "    print('*', end=' ')\n",
        "  print()"
      ]
    },
    {
      "cell_type": "code",
      "source": [
        "num=int(input('enter number of rows :'))\n",
        "for i in range(num, 0, -1):\n",
        "  for j in range(1, i+1):\n",
        "    print(j, end=' ')\n",
        "  print() # new line separator "
      ],
      "metadata": {
        "colab": {
          "base_uri": "https://localhost:8080/"
        },
        "id": "t2ElmoqbNKRt",
        "outputId": "a222bd10-2820-400f-8230-a21b50e76bf3"
      },
      "execution_count": null,
      "outputs": [
        {
          "output_type": "stream",
          "name": "stdout",
          "text": [
            "enter number of rows :5\n",
            "1 2 3 4 5 \n",
            "1 2 3 4 \n",
            "1 2 3 \n",
            "1 2 \n",
            "1 \n"
          ]
        }
      ]
    },
    {
      "cell_type": "markdown",
      "source": [
        "PROJECT\n",
        "#PRO-C99 \n",
        "\n",
        "##Name among stars\n"
      ],
      "metadata": {
        "id": "M8HsCW9B-JeJ"
      }
    },
    {
      "cell_type": "code",
      "source": [
        "name=input('enter name:')\n",
        "for i in range(0,len(name)):\n",
        "  for j in range(0, len(name)):\n",
        "    if (i==j):\n",
        "      print(name[j], end=' ')\n",
        "    else:\n",
        "      print('*', end=' ')\n",
        "  print()"
      ],
      "metadata": {
        "colab": {
          "base_uri": "https://localhost:8080/"
        },
        "id": "oaZQY5nmOkIE",
        "outputId": "980a0c96-6091-4171-b600-e0a2e3b91c2a"
      },
      "execution_count": 1,
      "outputs": [
        {
          "output_type": "stream",
          "name": "stdout",
          "text": [
            "enter name:DHRITI\n",
            "D * * * * * \n",
            "* H * * * * \n",
            "* * R * * * \n",
            "* * * I * * \n",
            "* * * * T * \n",
            "* * * * * I \n"
          ]
        }
      ]
    }
  ]
}